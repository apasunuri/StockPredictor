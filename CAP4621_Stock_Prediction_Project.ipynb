{
 "cells": [
  {
   "cell_type": "markdown",
   "metadata": {
    "id": "19Yi-Ic9HQVE"
   },
   "source": [
    "# Dhruv's Section"
   ]
  },
  {
   "cell_type": "code",
   "execution_count": null,
   "metadata": {
    "colab": {
     "base_uri": "https://localhost:8080/",
     "height": 1000
    },
    "id": "-m3iCF8ekSLE",
    "outputId": "7ce274f3-b2a1-4e19-8271-fe40b41e4615"
   },
   "outputs": [],
   "source": [
    "!pip install matplotlib\n",
    "!pip install seaborn\n",
    "!pip install yfinance\n",
    "import platform\n",
    "import yfinance as yf\n",
    "import datetime\n",
    "import matplotlib.pyplot as plt\n",
    "import seaborn\n",
    "\n",
    "# prints the ticker's close form the most recent, and its change from the day before\n",
    "def getTickerData(tickerSymbol):\n",
    "  tickerData = yf.Ticker(tickerSymbol)\n",
    "  tickerInfo = tickerData.info\n",
    "  companyName = tickerInfo['shortName']\n",
    "  print('Company Name: ' + companyName)\n",
    "\n",
    "  today = datetime.datetime.today().isoformat()\n",
    "  # tickerOF = tickerData.history(period='1d', start='2020-10-1', end=today[:10])\n",
    "  # tickerOF = tickerData.history(period='1d', start='2018-5-1', end='2018-6-1')\n",
    "  tickerOF = tickerData.history(period='1d', start='2020-10-1', end='2020-10-20')\n",
    "  priceLast = tickerOF['Close'].iloc[-1]\n",
    "  priceYest = tickerOF['Close'].iloc[-2]\n",
    "  change = priceLast - priceYest\n",
    "  print(companyName + ' last price is: ' + str(priceLast))\n",
    "  print('Price change = ' + str(change))\n",
    "\n",
    "# Gives a chart of the last 10 days\n",
    "def getChart(tickerSymbol):\n",
    "  tickerData = yf.Ticker(tickerSymbol)\n",
    "  hist = tickerData.history(period=\"30d\", start='2020-9-21', end='2020-10-20')\n",
    "  # hist = tickerData.history(period='1d', start='2020-10-1', end=today[:10])\n",
    "\n",
    "\n",
    "  # Plot everything by leveraging the very powerful matplotlib package\n",
    "  hist['Close'].plot(figsize=(16, 9))\n",
    "\n",
    "\n",
    "# Calling the functions\n",
    "getTickerData('MSFT')\n",
    "getChart('MSFT')\n",
    "\n"
   ]
  },
  {
   "cell_type": "markdown",
   "metadata": {
    "id": "lKf-TfHCHHDs"
   },
   "source": [
    "# Andres's Section"
   ]
  },
  {
   "cell_type": "code",
   "execution_count": null,
   "metadata": {
    "id": "ULhR5Zo7sULV"
   },
   "outputs": [],
   "source": [
    "pip install quandl"
   ]
  },
  {
   "cell_type": "code",
   "execution_count": null,
   "metadata": {
    "id": "H423eHnZN8at"
   },
   "outputs": [],
   "source": [
    "import quandl\n",
    "import numpy as np\n",
    "from sklearn.linear_model import LinearRegression\n",
    "from sklearn.svm import SVR\n",
    "from sklearn.model_selection import train_test_split"
   ]
  },
  {
   "cell_type": "code",
   "execution_count": null,
   "metadata": {
    "colab": {
     "base_uri": "https://localhost:8080/"
    },
    "id": "G0GyvWJ-ORMu",
    "outputId": "a96b417a-8a5c-4030-a845-7f566a378436"
   },
   "outputs": [],
   "source": [
    "# Get stock data\n",
    "df = quandl.get(\"WIKI/FB\")\n",
    "# Print Data\n",
    "print(df.tail())"
   ]
  },
  {
   "cell_type": "code",
   "execution_count": null,
   "metadata": {
    "colab": {
     "base_uri": "https://localhost:8080/"
    },
    "id": "3S0VbSHnOfC8",
    "outputId": "5c3e8d67-9155-4b02-9363-09843a33f821"
   },
   "outputs": [],
   "source": [
    "# Get Close Price\n",
    "df = df[['Adj. Close']]\n",
    "# Print it\n",
    "print(df.head())"
   ]
  },
  {
   "cell_type": "code",
   "execution_count": null,
   "metadata": {
    "colab": {
     "base_uri": "https://localhost:8080/"
    },
    "id": "4q0oZ4ViO2E9",
    "outputId": "12679adb-f813-468b-e506-22a62cd1a957"
   },
   "outputs": [],
   "source": [
    "# Var for predicting 'n' days out into the future\n",
    "forecast_out = 30 \n",
    "# Create another column (the target or dependent variable) shifted 'n' units up\n",
    "df['Prediction'] = df[['Adj. Close']].shift(-2)\n",
    "# Print new dataset\n",
    "print(df.tail())"
   ]
  },
  {
   "cell_type": "code",
   "execution_count": null,
   "metadata": {
    "colab": {
     "base_uri": "https://localhost:8080/"
    },
    "id": "4uCcW7eFP11s",
    "outputId": "1b30bfac-c53c-4ca1-b6bf-dfe19a2f8d47"
   },
   "outputs": [],
   "source": [
    "# Create independent Data set (X)\n",
    "# Convert dataframe to numpy array\n",
    "X = np.array(df.drop(['Prediction'], 1))\n",
    "# Remove the last 'n' rows\n",
    "X = X[:-2]\n",
    "print(X)"
   ]
  },
  {
   "cell_type": "code",
   "execution_count": null,
   "metadata": {
    "colab": {
     "base_uri": "https://localhost:8080/"
    },
    "id": "bMcC1IU0QZi1",
    "outputId": "fe9aad5c-54e2-497c-9786-cbe2075fd1c2"
   },
   "outputs": [],
   "source": [
    "# Create dependent data set (y)\n",
    "# Convert the dataframe to numpy array (All of the values including NaN's)\n",
    "y = np.array(df['Prediction'])\n",
    "# Get all of the y values except the last n rows\n",
    "y = y[:-2]\n",
    "print(y)"
   ]
  },
  {
   "cell_type": "code",
   "execution_count": null,
   "metadata": {
    "id": "VwbUeTC2Q9Aa"
   },
   "outputs": [],
   "source": [
    "# Split the data into 80% training and 20& testing\n",
    "x_train, x_test, y_train, y_test = train_test_split(X, y, test_size=0.2)"
   ]
  },
  {
   "cell_type": "code",
   "execution_count": null,
   "metadata": {
    "colab": {
     "base_uri": "https://localhost:8080/"
    },
    "id": "FNXBb0S2RdFa",
    "outputId": "e8ca269d-9783-4867-d3aa-bd4db17ad4da"
   },
   "outputs": [],
   "source": [
    "# Create and train the Support Vector Machine (Regressor)\n",
    "svr_rbf = SVR(kernel=\"rbf\", C=1e3, gamma=0.1)\n",
    "svr_rbf.fit(x_train, y_train)"
   ]
  },
  {
   "cell_type": "code",
   "execution_count": null,
   "metadata": {
    "colab": {
     "base_uri": "https://localhost:8080/"
    },
    "id": "UZvQ6_n6R0Sy",
    "outputId": "d6328b82-83b3-4150-9fd7-584e37e73244"
   },
   "outputs": [],
   "source": [
    "# Test Model: Score returns the coefficient of determination R^2 of the prediction\n",
    "# The best possible score is 1.0\n",
    "svm_confidence = svr_rbf.score(x_test, y_test)\n",
    "print(\"svm confidence: \", svm_confidence)"
   ]
  },
  {
   "cell_type": "code",
   "execution_count": null,
   "metadata": {
    "colab": {
     "base_uri": "https://localhost:8080/"
    },
    "id": "YuWeo4i5SNze",
    "outputId": "f184b736-a2ac-4f5a-e515-2015c8fdd03a"
   },
   "outputs": [],
   "source": [
    "# Create and train the Linear Regression Model\n",
    "lr = LinearRegression()\n",
    "# Train the Model\n",
    "lr.fit(x_train, y_train)"
   ]
  },
  {
   "cell_type": "code",
   "execution_count": null,
   "metadata": {
    "colab": {
     "base_uri": "https://localhost:8080/"
    },
    "id": "ird5Gw45SXzf",
    "outputId": "2e7557f8-cf04-460f-99f6-be9120e8da78"
   },
   "outputs": [],
   "source": [
    "# Test Model: Score returns the coefficient of determination R^2 of the prediction\n",
    "# The best possible score is 1.0\n",
    "lr_confidence = lr.score(x_test, y_test)\n",
    "print(\"lr confidence: \", lr_confidence)"
   ]
  },
  {
   "cell_type": "code",
   "execution_count": null,
   "metadata": {
    "colab": {
     "base_uri": "https://localhost:8080/"
    },
    "id": "7WMbgwQVSp2L",
    "outputId": "599d72da-9452-43fb-a7e8-e2503fbc5621"
   },
   "outputs": [],
   "source": [
    "# Set x_forecast equal to the last 2 rows of the original data set from Adj. Close column\n",
    "x_forecast = np.array(df.drop(['Prediction'],1))[-2:]\n",
    "print(x_forecast)"
   ]
  },
  {
   "cell_type": "code",
   "execution_count": null,
   "metadata": {
    "colab": {
     "base_uri": "https://localhost:8080/"
    },
    "id": "ja5iprWzTGIm",
    "outputId": "3af1fe61-f36c-4f62-f95b-c9c1bd7342aa"
   },
   "outputs": [],
   "source": [
    "# Print linear regression model predictions for the next n days\n",
    "lr_prediction = lr.predict(x_forecast)\n",
    "print(lr_prediction)\n",
    "\n",
    "# Print SVR model predictions\n",
    "svm_prediction = svr_rbf.predict(x_forecast)\n",
    "print(svm_prediction)"
   ]
  },
  {
   "cell_type": "markdown",
   "metadata": {
    "id": "z27aVRVOoc77"
   },
   "source": [
    "Backtesting with Zipline"
   ]
  },
  {
   "cell_type": "code",
   "execution_count": null,
   "metadata": {
    "colab": {
     "base_uri": "https://localhost:8080/"
    },
    "id": "UDzsecCqoh0S",
    "outputId": "79344fc1-d6ed-43f3-a28e-120e919b7fb4"
   },
   "outputs": [],
   "source": [
    "!pip install backtrader"
   ]
  },
  {
   "cell_type": "code",
   "execution_count": null,
   "metadata": {
    "id": "QNuq6i_9pLAv"
   },
   "outputs": [],
   "source": [
    "from zipline.api import order_target, record, symbol\n",
    "import matplotlib.pyplot as plt\n",
    "\n",
    "def initialize(context):\n",
    "    context.i = 0\n",
    "    context.asset = symbol('AAPL')\n",
    "\n",
    "\n",
    "def handle_data(context, data):\n",
    "    # Skip first 300 days to get full windows\n",
    "    context.i += 1\n",
    "    if context.i < 300:\n",
    "        return\n",
    "\n",
    "    # Compute averages\n",
    "    # data.history() has to be called with the same params\n",
    "    # from above and returns a pandas dataframe.\n",
    "    short_mavg = data.history(context.asset, 'price', bar_count=100, frequency=\"1d\").mean()\n",
    "    long_mavg = data.history(context.asset, 'price', bar_count=300, frequency=\"1d\").mean()\n",
    "\n",
    "    # Trading logic\n",
    "    if short_mavg > long_mavg:\n",
    "        # order_target orders as many shares as needed to\n",
    "        # achieve the desired number of shares.\n",
    "        order_target(context.asset, 100)\n",
    "    elif short_mavg < long_mavg:\n",
    "        order_target(context.asset, 0)\n",
    "\n",
    "    # Save values for later inspection\n",
    "    record(AAPL=data.current(context.asset, 'price'),\n",
    "           short_mavg=short_mavg,\n",
    "           long_mavg=long_mavg)\n",
    "\n",
    "\n",
    "def analyze(context, perf):\n",
    "    fig = plt.figure()\n",
    "    ax1 = fig.add_subplot(211)\n",
    "    perf.portfolio_value.plot(ax=ax1)\n",
    "    ax1.set_ylabel('portfolio value in $')\n",
    "\n",
    "    ax2 = fig.add_subplot(212)\n",
    "    perf['AAPL'].plot(ax=ax2)\n",
    "    perf[['short_mavg', 'long_mavg']].plot(ax=ax2)\n",
    "\n",
    "    perf_trans = perf.ix[[t != [] for t in perf.transactions]]\n",
    "    buys = perf_trans.ix[[t[0]['amount'] > 0 for t in perf_trans.transactions]]\n",
    "    sells = perf_trans.ix[\n",
    "        [t[0]['amount'] < 0 for t in perf_trans.transactions]]\n",
    "    ax2.plot(buys.index, perf.short_mavg.ix[buys.index],\n",
    "             '^', markersize=10, color='m')\n",
    "    ax2.plot(sells.index, perf.short_mavg.ix[sells.index],\n",
    "             'v', markersize=10, color='k')\n",
    "    ax2.set_ylabel('price in $')\n",
    "    plt.legend(loc=0)\n",
    "    plt.show()"
   ]
  },
  {
   "cell_type": "markdown",
   "metadata": {
    "id": "v4ZarGaH7h7V"
   },
   "source": [
    "# Abhinay's Section"
   ]
  },
  {
   "cell_type": "code",
   "execution_count": null,
   "metadata": {
    "colab": {
     "base_uri": "https://localhost:8080/"
    },
    "id": "HPMbYAnQ7neU",
    "outputId": "5744ae20-ec44-4629-8122-eef705376314"
   },
   "outputs": [],
   "source": [
    "!pip install stocknews"
   ]
  },
  {
   "cell_type": "code",
   "execution_count": null,
   "metadata": {
    "colab": {
     "base_uri": "https://localhost:8080/"
    },
    "id": "vbdbA4ZC7okC",
    "outputId": "28aa6343-a6de-4779-d088-f80a004d6867"
   },
   "outputs": [],
   "source": [
    "from stocknews import StockNews"
   ]
  },
  {
   "cell_type": "code",
   "execution_count": null,
   "metadata": {
    "id": "0YGkaVpf9rme"
   },
   "outputs": [],
   "source": []
  },
  {
   "cell_type": "code",
   "execution_count": null,
   "metadata": {
    "colab": {
     "base_uri": "https://localhost:8080/",
     "height": 162
    },
    "id": "kHp2rTaB_2yv",
    "outputId": "130da5b2-d14c-47db-fc54-38daabe90a7a"
   },
   "outputs": [],
   "source": [
    "scraper.find('div', {'class', 'My(6px) Pos(r) smartphone_Mt(6px)'}).find('span').text"
   ]
  },
  {
   "cell_type": "code",
   "execution_count": null,
   "metadata": {
    "id": "3S0lS83iAEFl"
   },
   "outputs": [],
   "source": []
  },
  {
   "cell_type": "markdown",
   "metadata": {
    "id": "j2K2llYGANBL"
   },
   "source": [
    "# John and Dhruv's Section"
   ]
  },
  {
   "cell_type": "code",
   "execution_count": null,
   "metadata": {
    "colab": {
     "base_uri": "https://localhost:8080/"
    },
    "id": "I-tqlsm8qZnA",
    "outputId": "a8b471ae-8344-4f28-9235-1a1fdf3ac049"
   },
   "outputs": [],
   "source": [
    "from google.colab import drive\n",
    "drive.mount('/content/drive')"
   ]
  },
  {
   "cell_type": "code",
   "execution_count": null,
   "metadata": {
    "id": "p2MbAAS0y4bY"
   },
   "outputs": [],
   "source": [
    "import numpy as np\n",
    "from sklearn.linear_model import LinearRegression\n",
    "from sklearn.svm import SVR\n",
    "from sklearn.model_selection import train_test_split\n",
    "import pandas as pd\n",
    "from sklearn.metrics import mean_squared_error, r2_score\n",
    "import matplotlib.pyplot as plt\n",
    "import os\n",
    "# plt.style.use('fivethirtyeight')\n"
   ]
  },
  {
   "cell_type": "code",
   "execution_count": null,
   "metadata": {
    "id": "nXM5AFINzmKu"
   },
   "outputs": [],
   "source": [
    "# df = pd.read_csv('/content/drive/My Drive/AI Stock Predictor Project Group/data/aapl.csv', sep = ',', header = 0)\n",
    "df = pd.read_csv('aapl.csv',sep = ',', header = 0)\n",
    "#print(df.tail())"
   ]
  },
  {
   "cell_type": "code",
   "execution_count": null,
   "metadata": {
    "id": "e1aXIMie7G71"
   },
   "outputs": [],
   "source": [
    "df.shape\n",
    "plt.figure(figsize=(16,8))\n",
    "plt.title('Close Price History')\n",
    "plt.plot(df['Close'])\n",
    "plt.xlabel('Date', fontsize=18)\n",
    "plt.ylabel('Close Price USD ($)', fontsize=18)\n",
    "plt.show()"
   ]
  },
  {
   "cell_type": "code",
   "execution_count": null,
   "metadata": {
    "id": "y40-DUmA0kti"
   },
   "outputs": [],
   "source": [
    "print(df.tail())"
   ]
  },
  {
   "cell_type": "code",
   "execution_count": null,
   "metadata": {
    "id": "0dw3M2O50zPd"
   },
   "outputs": [],
   "source": [
    "# Create independent Data set (X)\n",
    "# Convert dataframe to numpy array\n",
    "# X = np.array(df)\n",
    "\n",
    "# X = df['Close']\n",
    "# converting list to array\n",
    "X = np.array(df['Close'])\n",
    "X = np.reshape(X, (-1, 1))\n",
    "# print(Temp)\n",
    "# Remove the last 'n' rows\n",
    "# X = X[:-forecast_out]\n",
    "print(X)"
   ]
  },
  {
   "cell_type": "code",
   "execution_count": null,
   "metadata": {
    "id": "aEfvYFuP4-B3"
   },
   "outputs": [],
   "source": [
    "# Create dependent data set (y)\n",
    "# Convert the dataframe to numpy array (All of the values including NaN's)\n",
    "y = np.array(df['Prediction'])\n",
    "# Get all of the y values except the last n rows\n",
    "# y = y[:-forecast_out]\n",
    "print(y)"
   ]
  },
  {
   "cell_type": "code",
   "execution_count": null,
   "metadata": {
    "id": "3xCzQ7fU5JpY"
   },
   "outputs": [],
   "source": [
    "# Split the data into 80% training and 20& testing\n",
    "# x_train, x_test, y_train, y_test = train_test_split(df, y, test_size=0.2)\n",
    "\n",
    "# x_train1 = np.array(x_train.drop(['Sentiment','Date', 'Prediction'], axis=1))\n",
    "# x_test1 = np.array(x_test.drop(['Sentiment','Date', 'Prediction'], axis=1))\n",
    "x_train1 = np.array(df.drop(['Date', 'Prediction'],1))[:-40]\n",
    "x_test1 = np.array(df.drop(['Date', 'Prediction'],1))[-40:]\n",
    "\n",
    "\n",
    "# Split the data into training/testing sets\n",
    "x_train = X[:-40]\n",
    "x_test = X[-40:]\n",
    "\n",
    "# Split the targets into training/testing sets\n",
    "y_train = y[:-40]\n",
    "y_test = y[-40:]\n",
    "print(x_train)\n",
    "print(x_test)\n",
    "\n",
    "print(y_train)\n",
    "print(y_test)\n",
    "\n"
   ]
  },
  {
   "cell_type": "code",
   "execution_count": null,
   "metadata": {
    "id": "EMBrIrFr5KYb"
   },
   "outputs": [],
   "source": [
    "# # Create and train the Support Vector Machine (Regressor)\n",
    "# svr_rbf = SVR(kernel=\"rbf\", C=1e3, gamma=0.1)\n",
    "# svr_rbf.fit(x_train, y_train)"
   ]
  },
  {
   "cell_type": "code",
   "execution_count": null,
   "metadata": {
    "id": "LSceIm1S5MRb"
   },
   "outputs": [],
   "source": [
    "# # Test Model: Score returns the coefficient of determination R^2 of the prediction\n",
    "# # # The best possible score is 1.0\n",
    "# svm_confidence = svr_rbf.score(x_test, y_test)\n",
    "# print(\"svm confidence: \", svm_confidence)"
   ]
  },
  {
   "cell_type": "code",
   "execution_count": null,
   "metadata": {
    "colab": {
     "base_uri": "https://localhost:8080/"
    },
    "id": "WM6uQy2g5Ng1",
    "outputId": "684debed-4908-4a8d-c05f-52acd5b31c22"
   },
   "outputs": [],
   "source": [
    "# Create and train the Linear Regression Model\n",
    "lr = LinearRegression()\n",
    "# Train the Model\n",
    "lr.fit(x_train1, y_train)"
   ]
  },
  {
   "cell_type": "code",
   "execution_count": null,
   "metadata": {
    "colab": {
     "base_uri": "https://localhost:8080/"
    },
    "id": "AI0IPhB75P62",
    "outputId": "a0ba5f7a-9ab4-4dab-ecd6-117276b84f76"
   },
   "outputs": [],
   "source": [
    "# Test Model: Score returns the coefficient of determination R^2 of the prediction\n",
    "# The best possible score is 1.0\n",
    "lr_confidence = lr.score(x_test1, y_test)\n",
    "print(\"lr confidence: \", lr_confidence)"
   ]
  },
  {
   "cell_type": "code",
   "execution_count": null,
   "metadata": {
    "colab": {
     "base_uri": "https://localhost:8080/"
    },
    "id": "CX2AFg1l5T-V",
    "outputId": "4db4890a-491e-4105-f3a7-1ae2fc9d9e02"
   },
   "outputs": [],
   "source": [
    "# # Print linear regression model predictions for the next n days\n",
    "# lr_prediction = lr.predict(x_test)\n",
    "# print(lr_prediction)\n",
    "\n",
    "# CODE #####################################################################################\n",
    "# Make predictions using the testing set\n",
    "# x_forecast is the last row of the data, which we ant to predict\n",
    "x_forecast = np.array(df.drop(['Date', 'Prediction'],1))[-1:]\n",
    "print(x_forecast)\n",
    "lr_prediction = lr.predict(x_forecast)\n",
    "print('Prediction for the 1 day out:', lr_prediction)\n",
    "\n",
    "# Print SVR model predictions\n",
    "# svm_prediction = svr_rbf.predict(x_forecast)\n",
    "# print(svm_prediction)"
   ]
  },
  {
   "cell_type": "code",
   "execution_count": null,
   "metadata": {
    "colab": {
     "base_uri": "https://localhost:8080/",
     "height": 493
    },
    "id": "E2q262fd_jVc",
    "outputId": "c9c5def5-4b6a-4a7c-8d91-d7c9c360322a"
   },
   "outputs": [],
   "source": [
    "lr_prediction = lr.predict(x_test1)\n",
    "print(lr_prediction)\n",
    "# lr_prediction = scalar.inverse_transform(lr_prediction)\n",
    "# train = df[:x_train1]\n",
    "# valid = df[x_train1:]\n",
    "train = x_train1\n",
    "valid = df.drop(['Date', 'Prediction'],1)[-40:]\n",
    "\n",
    "valid['Predictions'] = lr_prediction\n",
    "\n",
    "# Visulaize the date\n",
    "plt.figure(figsize=(16,8))\n",
    "plt.title('Model')\n",
    "plt.xlabel('Date', fontsize=18)\n",
    "plt.ylabel('Close Price USD ($)', fontsize=18)\n",
    "plt.plot(df['Close'])\n",
    "plt.plot(valid[['Close', 'Predictions']])\n",
    "plt.legend(['Train', 'Val', 'Predictions'])\n",
    "plt.show()"
   ]
  },
  {
   "cell_type": "code",
   "execution_count": null,
   "metadata": {
    "colab": {
     "base_uri": "https://localhost:8080/",
     "height": 464
    },
    "id": "kFZvqOKd7dtb",
    "outputId": "73191046-ad3b-4730-fc15-6685ba09339f"
   },
   "outputs": [],
   "source": [
    "lr_prediction = lr.predict(x_test1)\n",
    "print(lr_prediction)\n",
    "\n",
    "# The coefficients\n",
    "print('Coefficients: \\n', lr.coef_)\n",
    "# The mean squared error\n",
    "print('Mean squared error: %.2f'\n",
    "      % mean_squared_error(y_test, lr_prediction))\n",
    "# The coefficient of determination: 1 is perfect prediction\n",
    "print('Coefficient of determination: %.2f'\n",
    "      % r2_score(y_test, lr_prediction))\n",
    "\n",
    "# Prediction is black line, actual is blue dot\n",
    "plt.plot(x_test['Date'], lr_prediction,  color='black')\n",
    "plt.plot_date(x_test['Date'], x_test['Close'], color='blue', linewidth=3)\n",
    "\n",
    "plt.xticks(())\n",
    "plt.yticks(())\n",
    "\n",
    "plt.show()\n"
   ]
  },
  {
   "cell_type": "code",
   "execution_count": null,
   "metadata": {
    "colab": {
     "base_uri": "https://localhost:8080/"
    },
    "id": "jLQcsG5c5Qn7",
    "outputId": "ff196028-4ec9-49fc-899a-1d8aac3ba70a"
   },
   "outputs": [],
   "source": [
    "# Set x_forecast equal to the last n row of the original data set from Close column\n",
    "x_forecast = np.array(df.drop(['Sentiment', 'Date', 'Prediction'],1))[-1:]\n",
    "print(x_forecast)"
   ]
  },
  {
   "cell_type": "markdown",
   "metadata": {
    "id": "ZgmrsJVky1tG"
   },
   "source": [
    "# John's Section"
   ]
  },
  {
   "cell_type": "code",
   "execution_count": null,
   "metadata": {
    "colab": {
     "base_uri": "https://localhost:8080/"
    },
    "id": "Z3Gat3IWAW5O",
    "outputId": "4f47284c-d3a8-458b-ff29-5edd02c8894e"
   },
   "outputs": [],
   "source": [
    "import urllib.request, json\n",
    "with urllib.request.urlopen('https://www.alphavantage.co/query?function=TIME_SERIES_DAILY&symbol=AMZN&apikey=RKHOCKAPF9H87FQQ') as response:\n",
    "   data = json.loads(response.read())\n",
    "\n",
    "meta=data[\"Meta Data\"]\n",
    "data=data[\"Time Series (Daily)\"]\n",
    "print(meta)\n",
    "print(data)"
   ]
  },
  {
   "cell_type": "code",
   "execution_count": null,
   "metadata": {
    "id": "ao3AUERR-X6u"
   },
   "outputs": [],
   "source": []
  },
  {
   "cell_type": "markdown",
   "metadata": {
    "id": "aIT5pFHp-Zyp"
   },
   "source": [
    "# Dhruv's Section"
   ]
  },
  {
   "cell_type": "code",
   "execution_count": 1,
   "metadata": {
    "id": "eYp2Q_Z0-Zyp"
   },
   "outputs": [
    {
     "name": "stderr",
     "output_type": "stream",
     "text": [
      "Using TensorFlow backend.\n"
     ]
    }
   ],
   "source": [
    "import math\n",
    "import pandas_datareader as web\n",
    "import numpy as np\n",
    "import pandas as pd\n",
    "from sklearn.preprocessing import MinMaxScaler\n",
    "from keras.models import Sequential, load_model\n",
    "from keras.layers import Dense, LSTM\n",
    "import matplotlib.pyplot as plt\n",
    "#plt.style.use('fivethirtyeight')"
   ]
  },
  {
   "cell_type": "code",
   "execution_count": 2,
   "metadata": {
    "id": "57zjA9f7-Zyq"
   },
   "outputs": [],
   "source": [
    "n = 60\n",
    "df = web.DataReader('AAPL', data_source = 'yahoo', start = '2015-01-01', end = '2020-10-01')\n",
    "#print(df.head())\n",
    "data = df[['Adj Close']]"
   ]
  },
  {
   "cell_type": "code",
   "execution_count": 3,
   "metadata": {
    "colab": {
     "base_uri": "https://localhost:8080/",
     "height": 558
    },
    "id": "IftM3QPY_IIU",
    "outputId": "5ab5a659-6151-427f-b84a-a79dfd3544f6"
   },
   "outputs": [
    {
     "data": {
      "image/png": "[encoded data removed]",
      "text/plain": [
       "<Figure size 1152x576 with 1 Axes>"
      ]
     },
     "metadata": {
      "needs_background": "light"
     },
     "output_type": "display_data"
    }
   ],
   "source": [
    "# Visualize the data\n",
    "# df.shape\n",
    "plt.figure(figsize=(16,8))\n",
    "plt.title('Close Price History')\n",
    "plt.plot(df['Adj Close'])\n",
    "plt.xlabel('Date', fontsize=18)\n",
    "plt.ylabel('Close Price USD ($)', fontsize=18)\n",
    "plt.show()"
   ]
  },
  {
   "cell_type": "code",
   "execution_count": 4,
   "metadata": {
    "id": "mkqOEKrqASpn"
   },
   "outputs": [
    {
     "name": "stdout",
     "output_type": "stream",
     "text": [
      "[[ 24.69635201]\n",
      " [ 24.00061417]\n",
      " [ 24.00287628]\n",
      " ...\n",
      " [113.89350128]\n",
      " [115.6105423 ]\n",
      " [116.58885956]]\n"
     ]
    }
   ],
   "source": [
    "#Create a new Dataframe\n",
    "print(data.values)\n",
    "#print(data.values)\n",
    "#print(len(data))\n",
    "# print(type(data))\n",
    "#Convert to numpy array\n",
    "dataset = np.array(data.values)\n",
    "dataset = np.reshape(dataset, (-1, 1))\n",
    "#print(dataset)\n",
    "#print(dataset)\n",
    "#Get the number of rows to train the model\n",
    "training_data_len = math.ceil(len(data) * .8)"
   ]
  },
  {
   "cell_type": "code",
   "execution_count": 5,
   "metadata": {
    "id": "fDrh5DAKAxdN"
   },
   "outputs": [],
   "source": [
    "#Scale the data\n",
    "scaler = MinMaxScaler(feature_range=(0,1))\n",
    "scaled_data = scaler.fit_transform(dataset)"
   ]
  },
  {
   "cell_type": "code",
   "execution_count": 6,
   "metadata": {
    "id": "8TZJ9-_tCg6f"
   },
   "outputs": [],
   "source": [
    "#Create the scaled training data set\n",
    "train_data = scaled_data[0:training_data_len, 0:4]\n",
    "#Split the data into x_train and y_train\n",
    "x_train = []\n",
    "y_train = []\n",
    "for i in range(n, len(train_data)):\n",
    "  x_train.append(train_data[i-n:i, 0:4])\n",
    "  y_train.append(train_data[i, :])"
   ]
  },
  {
   "cell_type": "code",
   "execution_count": 7,
   "metadata": {
    "colab": {
     "base_uri": "https://localhost:8080/"
    },
    "id": "vcOaOPNTECyd",
    "outputId": "2a185de7-f1f9-4d5a-d985-ea899df2baa4"
   },
   "outputs": [],
   "source": [
    "#Convert the x_train and y_train to numpy arrays\n",
    "x_train, y_train = np.array(x_train), np.array(y_train)\n",
    "#Reshape the data\n",
    "# (#samples, timesteps, and features)\n",
    "#x_train = np.reshape(x_train, (x_train.shape[0], x_train.shape[1], 1))\n",
    "#x_train.shape"
   ]
  },
  {
   "cell_type": "code",
   "execution_count": 8,
   "metadata": {
    "id": "fbgJKyjkEyep"
   },
   "outputs": [],
   "source": [
    "#Build the LSTM model\n",
    "model = Sequential()\n",
    "# 50 neurons, (timesteps, features)\n",
    "model.add(LSTM(50, return_sequences = True, input_shape = (x_train.shape[1], 1)))\n",
    "model.add(LSTM(50, return_sequences = True))\n",
    "model.add(LSTM(50))\n",
    "model.add(Dense(25))\n",
    "model.add(Dense(1))"
   ]
  },
  {
   "cell_type": "code",
   "execution_count": 9,
   "metadata": {
    "id": "fzUmzRkAFXHa"
   },
   "outputs": [],
   "source": [
    "model.compile(optimizer = 'adam', loss = 'mean_squared_error')"
   ]
  },
  {
   "cell_type": "code",
   "execution_count": 10,
   "metadata": {
    "colab": {
     "base_uri": "https://localhost:8080/"
    },
    "id": "AGej_FziFkt3",
    "outputId": "881fd51f-feb1-4e85-aef3-74cf2e5f0f0a"
   },
   "outputs": [
    {
     "name": "stdout",
     "output_type": "stream",
     "text": [
      "Epoch 1/5\n",
      "1099/1099 [==============================] - 197s 179ms/step - loss: 6.3527e-04\n",
      "Epoch 2/5\n",
      "1099/1099 [==============================] - 195s 178ms/step - loss: 2.7460e-04\n",
      "Epoch 3/5\n",
      "1099/1099 [==============================] - 196s 179ms/step - loss: 1.8498e-04\n",
      "Epoch 4/5\n",
      "1099/1099 [==============================] - 199s 181ms/step - loss: 1.5219e-04\n",
      "Epoch 5/5\n",
      "1099/1099 [==============================] - 214s 194ms/step - loss: 1.1619e-04\n"
     ]
    },
    {
     "data": {
      "text/plain": [
       "<keras.callbacks.callbacks.History at 0x1b03dcf2f88>"
      ]
     },
     "execution_count": 10,
     "metadata": {},
     "output_type": "execute_result"
    }
   ],
   "source": [
    "#Train the model\n",
    "model.fit(x_train, y_train, batch_size = 1, epochs = 5)"
   ]
  },
  {
   "cell_type": "code",
   "execution_count": 11,
   "metadata": {
    "id": "Accj29MbFw_z"
   },
   "outputs": [],
   "source": [
    "#Create the testing dataset\n",
    "#Create a new array containing scaled values from index size-n to size\n",
    "# [last n values, all the columns]\n",
    "test_data = scaled_data[training_data_len - n:, :]\n",
    "#Create the datasets x_test, y_test\n",
    "x_test = []\n",
    "# 61st values\n",
    "y_test = dataset[training_data_len:, :]\n",
    "for i in range(n, len(test_data)):\n",
    "  # Past n values\n",
    "  x_test.append(test_data[i-n:i, 0])"
   ]
  },
  {
   "cell_type": "code",
   "execution_count": 12,
   "metadata": {
    "id": "ArhW1GFMGkPs"
   },
   "outputs": [
    {
     "name": "stdout",
     "output_type": "stream",
     "text": [
      "(289, 60)\n"
     ]
    }
   ],
   "source": [
    "#convert to numpy array\n",
    "x_test = np.array(x_test)\n",
    "print(x_test.shape)"
   ]
  },
  {
   "cell_type": "code",
   "execution_count": 13,
   "metadata": {
    "id": "kVd98WI_GrVC"
   },
   "outputs": [],
   "source": [
    "#Reshape the data for the LSTM model to 3-D\n",
    "x_test = np.reshape(x_test, (x_test.shape[0], x_test.shape[1], 1))"
   ]
  },
  {
   "cell_type": "code",
   "execution_count": 14,
   "metadata": {
    "colab": {
     "base_uri": "https://localhost:8080/"
    },
    "id": "EcX6GqvAHKSy",
    "outputId": "61ec6955-8679-43d1-e582-0591e1327c9a"
   },
   "outputs": [],
   "source": [
    "#Get the models predicted price and values\n",
    "#print(x_test[0])\n",
    "#model = load_model('lstm_models/v.h5')\n",
    "predictions = model.predict(x_test)\n",
    "#print(predictions)\n",
    "# We want predictions to contain the same values as y_test dataset\n",
    "predictions = scaler.inverse_transform(predictions)\n",
    "#print(predictions)\n",
    "# print(type(predictions))\n"
   ]
  },
  {
   "cell_type": "code",
   "execution_count": 15,
   "metadata": {
    "colab": {
     "base_uri": "https://localhost:8080/"
    },
    "id": "0aFhJoVYHh0B",
    "outputId": "73dce526-5c23-4c5e-fea1-bcb9c4966def"
   },
   "outputs": [
    {
     "name": "stdout",
     "output_type": "stream",
     "text": [
      "1.0143679582536427\n"
     ]
    }
   ],
   "source": [
    "#Get the root mean squred error (RMSE) - lower the better\n",
    "rmse = np.sqrt(np.mean(predictions - y_test)**2)\n",
    "print(rmse)"
   ]
  },
  {
   "cell_type": "code",
   "execution_count": 16,
   "metadata": {
    "colab": {
     "base_uri": "https://localhost:8080/",
     "height": 558
    },
    "id": "1XWjwnLYH6td",
    "outputId": "a4033826-3eeb-4a7c-ca7c-6d5e68fe0725"
   },
   "outputs": [
    {
     "name": "stderr",
     "output_type": "stream",
     "text": [
      "C:\\Users\\abhin\\Anaconda3\\envs\\tf-gpu\\lib\\site-packages\\ipykernel_launcher.py:8: SettingWithCopyWarning: \n",
      "A value is trying to be set on a copy of a slice from a DataFrame.\n",
      "Try using .loc[row_indexer,col_indexer] = value instead\n",
      "\n",
      "See the caveats in the documentation: https://pandas.pydata.org/pandas-docs/stable/user_guide/indexing.html#returning-a-view-versus-a-copy\n",
      "  \n"
     ]
    },
    {
     "data": {
      "image/png": "[encoded data removed]",
      "text/plain": [
       "<Figure size 1152x576 with 1 Axes>"
      ]
     },
     "metadata": {
      "needs_background": "light"
     },
     "output_type": "display_data"
    }
   ],
   "source": [
    "#Plot the data\n",
    "#print(data[:56])\n",
    "train = data[:training_data_len]\n",
    "valid = data[training_data_len:]\n",
    "#train = data.loc[:'2020-09-01']\n",
    "#valid = data.loc['2020-09-01':]\n",
    "#print(data.loc[:'2020-09-01'])\n",
    "valid['Predictions'] = predictions\n",
    "#print(type(train))\n",
    "#print(type(valid))\n",
    "#predictions_series = []\n",
    "#indices = list(range(162, 202))\n",
    "#for prediction in predictions:\n",
    "#    predictions_series.append(prediction)\n",
    "#predictions = pd.Series(predictions_series, index = indices)\n",
    "\n",
    "\n",
    "# Visulaize the date\n",
    "plt.figure(figsize=(16,8))\n",
    "plt.title('AAPL')\n",
    "plt.xlabel('Date', fontsize=12)\n",
    "plt.ylabel('Closing Price USD ($)', fontsize=12)\n",
    "plt.plot(train['Adj Close'])\n",
    "plt.plot(valid['Adj Close'])\n",
    "plt.plot(valid['Predictions'])\n",
    "plt.legend(['Train', 'Actual', 'Predictions'], loc='lower right')\n",
    "plt.show()"
   ]
  },
  {
   "cell_type": "code",
   "execution_count": null,
   "metadata": {
    "id": "Q7o1vmLLFdZU"
   },
   "outputs": [],
   "source": [
    "print(valid[[180]], predictions[[180]])"
   ]
  },
  {
   "cell_type": "code",
   "execution_count": 17,
   "metadata": {
    "colab": {
     "base_uri": "https://localhost:8080/"
    },
    "id": "wzC8LY7aNFkm",
    "outputId": "d7f2affb-3b1d-4cef-b3d8-374e4e20b3aa"
   },
   "outputs": [
    {
     "data": {
      "text/plain": [
       "\"stock_quote = pd.read_csv('/content/aapl.csv',sep = ',', header = 0)\\nnew_df = stock_quote.filter(['Close'])\\nlast_n_days = new_df[-n:].values\\nlast_n_days_scaled = scaler.transform(last_n_days)\\n\\nX_test = []\\nX_test.append(last_n_days_scaled)\\nX_test = np.array(X_test)\\n\\nX_test = np.reshape(X_test, (X_test.shape[0], X_test.shape[1], 1))\\n\\npred_price = model.predict(X_test)\\n\\npred_price = scaler.inverse_transform(pred_price)\\nprint(pred_price)\""
      ]
     },
     "execution_count": 17,
     "metadata": {},
     "output_type": "execute_result"
    }
   ],
   "source": [
    "#Get the quote\n",
    "# apple_quote = web.DataReader('AAPL', data_source=\"yahoo\", start)\n",
    "from keras.models import save_model\n",
    "model.save('aapl.h5')\n",
    "'''stock_quote = pd.read_csv('/content/aapl.csv',sep = ',', header = 0)\n",
    "new_df = stock_quote.filter(['Close'])\n",
    "last_n_days = new_df[-n:].values\n",
    "last_n_days_scaled = scaler.transform(last_n_days)\n",
    "\n",
    "X_test = []\n",
    "X_test.append(last_n_days_scaled)\n",
    "X_test = np.array(X_test)\n",
    "\n",
    "X_test = np.reshape(X_test, (X_test.shape[0], X_test.shape[1], 1))\n",
    "\n",
    "pred_price = model.predict(X_test)\n",
    "\n",
    "pred_price = scaler.inverse_transform(pred_price)\n",
    "print(pred_price)'''"
   ]
  },
  {
   "cell_type": "code",
   "execution_count": null,
   "metadata": {},
   "outputs": [],
   "source": []
  }
 ],
 "metadata": {
  "colab": {
   "collapsed_sections": [
    "ZgmrsJVky1tG"
   ],
   "name": "CAP4621 Stock Prediction Project.ipynb",
   "provenance": [],
   "toc_visible": true
  },
  "kernelspec": {
   "display_name": "Python 3",
   "language": "python",
   "name": "python3"
  },
  "language_info": {
   "codemirror_mode": {
    "name": "ipython",
    "version": 3
   },
   "file_extension": ".py",
   "mimetype": "text/x-python",
   "name": "python",
   "nbconvert_exporter": "python",
   "pygments_lexer": "ipython3",
   "version": "3.7.7"
  }
 },
 "nbformat": 4,
 "nbformat_minor": 4
}
